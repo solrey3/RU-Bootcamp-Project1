{
 "cells": [
  {
   "cell_type": "code",
   "execution_count": null,
   "metadata": {},
   "outputs": [],
   "source": [
    "import base64\n",
    "import requests\n",
    "import pandas as pd\n",
    "import matplotlib.pyplot as plt\n",
    "import scipy.stats as st\n",
    "import numpy as np\n",
    "from ohmysportsfeedspy import MySportsFeeds\n",
    "\n",
    "from config import api_key\n",
    "from config import g_key\n",
    "\n",
    "msf = MySportsFeeds(version=\"2.0\")\n",
    "msf.authenticate(api_key, \"MYSPORTSFEEDS\")"
   ]
  },
  {
   "cell_type": "code",
   "execution_count": null,
   "metadata": {},
   "outputs": [],
   "source": [
    "output = msf.msf_get_data(league='nfl',season='2019-2020-regular',feed='seasonal_player_stats',format='json')\n",
    "player_list = output['playerStatsTotals']\n",
    "player_list[0]"
   ]
  },
  {
   "cell_type": "code",
   "execution_count": null,
   "metadata": {},
   "outputs": [],
   "source": [
    "# rb_name = []\n",
    "# for i in range(0,  len(player_list)):\n",
    "#     if player_list[i]['player']['primaryPosition'] == 'RB':\n",
    "#         name = player_list[i]['player']['firstName'] + \" \" + player_list[i]['player']['lastName']\n",
    "#         rb_name.append(name)\n",
    "     \n",
    "# rb_name\n",
    "\n",
    "num_records = len(player_list)\n",
    "\n",
    "stats_df = pd.DataFrame(columns=['Name', 'Position', 'Team', 'Age', 'birthCity', 'College',\n",
    "                                   'passYards', 'passYPA', 'passTD', 'passInt', 'qbRating',\n",
    "                                   'rushAttempts', 'rushYards', 'rushAverage', 'rushTD', \n",
    "                                   'Targets', 'Receptions', 'recYards', 'recAverage', 'recTD',\n",
    "                                   'Tackles', 'Sacks', 'TFL', 'Interceptions', 'intTD', 'passesDefended', 'Safeties',\n",
    "                                   'fumblesForced', 'fumbleTD'], index=range(0, num_records))\n",
    "stats_df"
   ]
  },
  {
   "cell_type": "code",
   "execution_count": null,
   "metadata": {
    "scrolled": true
   },
   "outputs": [],
   "source": [
    "for index, row in stats_df.iterrows():\n",
    "    \n",
    "    try:\n",
    "        stats_df.loc[index, 'Name'] = player_list[index]['player']['firstName'] + \" \" + player_list[index]['player']['lastName']\n",
    "        stats_df.loc[index, 'Position'] = player_list[index]['player']['primaryPosition']\n",
    "        stats_df.loc[index, 'Team'] = player_list[index]['team']['abbreviation']\n",
    "        stats_df.loc[index, 'Age'] = player_list[index]['player']['age']\n",
    "        stats_df.loc[index, 'birthCity'] = player_list[index]['player']['birthCity']\n",
    "        stats_df.loc[index, 'College'] = player_list[index]['player']['college']\n",
    "        stats_df.loc[index, 'passYards'] = player_list[index]['stats']['passing']['passYards']\n",
    "        stats_df.loc[index, 'passYPA'] = player_list[index]['stats']['passing']['passYardsPerAtt']\n",
    "        stats_df.loc[index, 'passTD'] = player_list[index]['stats']['passing']['passTD']\n",
    "        stats_df.loc[index, 'passInt'] = player_list[index]['stats']['passing']['passInt']\n",
    "        stats_df.loc[index, 'qbRating'] = player_list[index]['stats']['passing']['qbRating']\n",
    "        stats_df.loc[index, 'rushAttempts'] = player_list[index]['stats']['rushing']['rushAttempts']\n",
    "        stats_df.loc[index, 'rushYards'] = player_list[index]['stats']['rushing']['rushYards']\n",
    "        stats_df.loc[index, 'rushAverage'] = player_list[index]['stats']['rushing']['rushAverage']\n",
    "        stats_df.loc[index, 'rushTD'] = player_list[index]['stats']['rushing']['rushTD']\n",
    "        stats_df.loc[index, 'Targets'] = player_list[index]['stats']['receiving']['targets']\n",
    "        stats_df.loc[index, 'Receptions'] = player_list[index]['stats']['receiving']['receptions']\n",
    "        stats_df.loc[index, 'recYards'] = player_list[index]['stats']['receiving']['recYards']\n",
    "        stats_df.loc[index, 'recAverage'] = player_list[index]['stats']['receiving']['recAverage']\n",
    "        stats_df.loc[index, 'recTD'] = player_list[index]['stats']['receiving']['recTD']\n",
    "        stats_df.loc[index, 'Tackles'] = player_list[index]['stats']['tackles']['tackleTotal']\n",
    "        stats_df.loc[index, 'Sacks'] = player_list[index]['stats']['tackles']['sacks']\n",
    "        stats_df.loc[index, 'TFL'] = player_list[index]['stats']['tackles']['tacklesForLoss']\n",
    "        stats_df.loc[index, 'Interceptions'] = player_list[index]['stats']['interceptions']['interceptions']\n",
    "        stats_df.loc[index, 'intTD'] = player_list[index]['stats']['interceptions']['intTD']\n",
    "        stats_df.loc[index, 'passesDefended'] = player_list[index]['stats']['interceptions']['passesDefended']\n",
    "        stats_df.loc[index, 'Safeties'] = player_list[index]['stats']['interceptions']['safeties']\n",
    "        stats_df.loc[index, 'fumblesForced'] = player_list[index]['stats']['fumbles']['fumForced']\n",
    "        stats_df.loc[index, 'fumbleTD'] = player_list[index]['stats']['fumbles']['fumTD']\n",
    "    \n",
    "    except:\n",
    "        pass\n",
    "        \n",
    "stats_df"
   ]
  },
  {
   "cell_type": "code",
   "execution_count": null,
   "metadata": {},
   "outputs": [],
   "source": []
  },
  {
   "cell_type": "code",
   "execution_count": null,
   "metadata": {},
   "outputs": [],
   "source": [
    "qb_df = stats_df[stats_df['Position'] == 'QB']\n",
    "qb_df = qb_df.sort_values(\"passYards\", ascending=False)\n",
    "qb_df"
   ]
  },
  {
   "cell_type": "code",
   "execution_count": null,
   "metadata": {},
   "outputs": [],
   "source": []
  }
 ],
 "metadata": {
  "kernelspec": {
   "display_name": "Python 3",
   "language": "python",
   "name": "python3"
  },
  "language_info": {
   "codemirror_mode": {
    "name": "ipython",
    "version": 3
   },
   "file_extension": ".py",
   "mimetype": "text/x-python",
   "name": "python",
   "nbconvert_exporter": "python",
   "pygments_lexer": "ipython3",
   "version": "3.7.6"
  }
 },
 "nbformat": 4,
 "nbformat_minor": 4
}
