{
 "cells": [
  {
   "cell_type": "code",
   "execution_count": 6,
   "metadata": {},
   "outputs": [],
   "source": [
    "import base64\n",
    "import requests\n",
    "import pandas as pd\n",
    "import matplotlib.pyplot as plt\n",
    "import scipy.stats as st\n",
    "import numpy as np\n",
    "from ohmysportsfeedspy import MySportsFeeds\n",
    "\n",
    "from config import api_key\n",
    "from config import g_key\n",
    "\n",
    "msf = MySportsFeeds(version=\"2.0\")\n",
    "msf.authenticate(api_key, \"MYSPORTSFEEDS\")"
   ]
  },
  {
   "cell_type": "code",
   "execution_count": 7,
   "metadata": {},
   "outputs": [
    {
     "ename": "FileNotFoundError",
     "evalue": "[Errno 2] No such file or directory: 'results/seasonal_player_stats-nfl-2019-2020-regular.json'",
     "output_type": "error",
     "traceback": [
      "\u001b[1;31m---------------------------------------------------------------------------\u001b[0m",
      "\u001b[1;31mFileNotFoundError\u001b[0m                         Traceback (most recent call last)",
      "\u001b[1;32m<ipython-input-7-1b00e404de34>\u001b[0m in \u001b[0;36m<module>\u001b[1;34m\u001b[0m\n\u001b[1;32m----> 1\u001b[1;33m \u001b[0moutput\u001b[0m \u001b[1;33m=\u001b[0m \u001b[0mmsf\u001b[0m\u001b[1;33m.\u001b[0m\u001b[0mmsf_get_data\u001b[0m\u001b[1;33m(\u001b[0m\u001b[0mleague\u001b[0m\u001b[1;33m=\u001b[0m\u001b[1;34m'nfl'\u001b[0m\u001b[1;33m,\u001b[0m\u001b[0mseason\u001b[0m\u001b[1;33m=\u001b[0m\u001b[1;34m'2019-2020-regular'\u001b[0m\u001b[1;33m,\u001b[0m\u001b[0mfeed\u001b[0m\u001b[1;33m=\u001b[0m\u001b[1;34m'seasonal_player_stats'\u001b[0m\u001b[1;33m,\u001b[0m\u001b[0mformat\u001b[0m\u001b[1;33m=\u001b[0m\u001b[1;34m'json'\u001b[0m\u001b[1;33m)\u001b[0m\u001b[1;33m\u001b[0m\u001b[1;33m\u001b[0m\u001b[0m\n\u001b[0m\u001b[0;32m      2\u001b[0m \u001b[0mplayer_list\u001b[0m \u001b[1;33m=\u001b[0m \u001b[0moutput\u001b[0m\u001b[1;33m[\u001b[0m\u001b[1;34m'playerStatsTotals'\u001b[0m\u001b[1;33m]\u001b[0m\u001b[1;33m\u001b[0m\u001b[1;33m\u001b[0m\u001b[0m\n\u001b[0;32m      3\u001b[0m \u001b[0mplayer_list\u001b[0m\u001b[1;33m[\u001b[0m\u001b[1;36m0\u001b[0m\u001b[1;33m]\u001b[0m\u001b[1;33m\u001b[0m\u001b[1;33m\u001b[0m\u001b[0m\n",
      "\u001b[1;32m~\\Anaconda3\\envs\\PythonData_RU_2020\\lib\\site-packages\\ohmysportsfeedspy\\MySportsFeeds_API.py\u001b[0m in \u001b[0;36mmsf_get_data\u001b[1;34m(self, **kwargs)\u001b[0m\n\u001b[0;32m     71\u001b[0m     \u001b[1;31m# Request data (and store it if applicable)\u001b[0m\u001b[1;33m\u001b[0m\u001b[1;33m\u001b[0m\u001b[1;33m\u001b[0m\u001b[0m\n\u001b[0;32m     72\u001b[0m     \u001b[1;32mdef\u001b[0m \u001b[0mmsf_get_data\u001b[0m\u001b[1;33m(\u001b[0m\u001b[0mself\u001b[0m\u001b[1;33m,\u001b[0m \u001b[1;33m**\u001b[0m\u001b[0mkwargs\u001b[0m\u001b[1;33m)\u001b[0m\u001b[1;33m:\u001b[0m\u001b[1;33m\u001b[0m\u001b[1;33m\u001b[0m\u001b[0m\n\u001b[1;32m---> 73\u001b[1;33m         \u001b[1;32mreturn\u001b[0m \u001b[0mself\u001b[0m\u001b[1;33m.\u001b[0m\u001b[0mapi_instance\u001b[0m\u001b[1;33m.\u001b[0m\u001b[0mget_data\u001b[0m\u001b[1;33m(\u001b[0m\u001b[1;33m**\u001b[0m\u001b[0mkwargs\u001b[0m\u001b[1;33m)\u001b[0m\u001b[1;33m\u001b[0m\u001b[1;33m\u001b[0m\u001b[0m\n\u001b[0m\u001b[0;32m     74\u001b[0m \u001b[1;33m\u001b[0m\u001b[0m\n",
      "\u001b[1;32m~\\Anaconda3\\envs\\PythonData_RU_2020\\lib\\site-packages\\ohmysportsfeedspy\\v1_0.py\u001b[0m in \u001b[0;36mget_data\u001b[1;34m(self, **kwargs)\u001b[0m\n\u001b[0;32m    200\u001b[0m             \u001b[0mfilename\u001b[0m \u001b[1;33m=\u001b[0m \u001b[0mself\u001b[0m\u001b[1;33m.\u001b[0m\u001b[0m__make_output_filename\u001b[0m\u001b[1;33m(\u001b[0m\u001b[0mleague\u001b[0m\u001b[1;33m,\u001b[0m \u001b[0mseason\u001b[0m\u001b[1;33m,\u001b[0m \u001b[0mfeed\u001b[0m\u001b[1;33m,\u001b[0m \u001b[0moutput_format\u001b[0m\u001b[1;33m,\u001b[0m \u001b[0mparams\u001b[0m\u001b[1;33m)\u001b[0m\u001b[1;33m\u001b[0m\u001b[1;33m\u001b[0m\u001b[0m\n\u001b[0;32m    201\u001b[0m \u001b[1;33m\u001b[0m\u001b[0m\n\u001b[1;32m--> 202\u001b[1;33m             \u001b[1;32mwith\u001b[0m \u001b[0mopen\u001b[0m\u001b[1;33m(\u001b[0m\u001b[0mself\u001b[0m\u001b[1;33m.\u001b[0m\u001b[0mstore_location\u001b[0m \u001b[1;33m+\u001b[0m \u001b[0mfilename\u001b[0m\u001b[1;33m)\u001b[0m \u001b[1;32mas\u001b[0m \u001b[0mf\u001b[0m\u001b[1;33m:\u001b[0m\u001b[1;33m\u001b[0m\u001b[1;33m\u001b[0m\u001b[0m\n\u001b[0m\u001b[0;32m    203\u001b[0m                 \u001b[1;32mif\u001b[0m \u001b[0moutput_format\u001b[0m \u001b[1;33m==\u001b[0m \u001b[1;34m\"json\"\u001b[0m\u001b[1;33m:\u001b[0m\u001b[1;33m\u001b[0m\u001b[1;33m\u001b[0m\u001b[0m\n\u001b[0;32m    204\u001b[0m                     \u001b[0mdata\u001b[0m \u001b[1;33m=\u001b[0m \u001b[0mjson\u001b[0m\u001b[1;33m.\u001b[0m\u001b[0mload\u001b[0m\u001b[1;33m(\u001b[0m\u001b[0mf\u001b[0m\u001b[1;33m)\u001b[0m\u001b[1;33m\u001b[0m\u001b[1;33m\u001b[0m\u001b[0m\n",
      "\u001b[1;31mFileNotFoundError\u001b[0m: [Errno 2] No such file or directory: 'results/seasonal_player_stats-nfl-2019-2020-regular.json'"
     ]
    }
   ],
   "source": [
    "output = msf.msf_get_data(league='nfl',season='2019-2020-regular',feed='seasonal_player_stats',format='json')\n",
    "player_list = output['playerStatsTotals']\n",
    "player_list[0]"
   ]
  },
  {
   "cell_type": "code",
   "execution_count": null,
   "metadata": {},
   "outputs": [],
   "source": [
    "num_records = len(player_list)\n",
    "\n",
    "stats_df = pd.DataFrame(columns=['Name', 'Position', 'Team', 'Age', 'birthCity', 'College',\n",
    "                                   'passYards', 'passYPA', 'passTD', 'passInt', 'qbRating',\n",
    "                                   'rushAttempts', 'rushYards', 'rushAverage', 'rushTD', \n",
    "                                   'Targets', 'Receptions', 'recYards', 'recAverage', 'recTD',\n",
    "                                   'Tackles', 'Sacks', 'TFL', 'Interceptions', 'intTD', 'passesDefended', 'Safeties',\n",
    "                                   'fumblesForced', 'fumbleTD'], index=range(0, num_records))\n",
    "stats_df"
   ]
  },
  {
   "cell_type": "code",
   "execution_count": null,
   "metadata": {},
   "outputs": [],
   "source": [
    "for index, row in stats_df.iterrows():\n",
    "    \n",
    "    try:\n",
    "        stats_df.loc[index, 'Name'] = player_list[index]['player']['firstName'] + \" \" + player_list[index]['player']['lastName']\n",
    "        stats_df.loc[index, 'Position'] = player_list[index]['player']['primaryPosition']\n",
    "        stats_df.loc[index, 'Team'] = player_list[index]['team']['abbreviation']\n",
    "        stats_df.loc[index, 'Age'] = player_list[index]['player']['age']\n",
    "        stats_df.loc[index, 'birthCity'] = player_list[index]['player']['birthCity']\n",
    "        stats_df.loc[index, 'College'] = player_list[index]['player']['college']\n",
    "        stats_df.loc[index, 'passYards'] = player_list[index]['stats']['passing']['passYards']\n",
    "        stats_df.loc[index, 'passYPA'] = player_list[index]['stats']['passing']['passYardsPerAtt']\n",
    "        stats_df.loc[index, 'passTD'] = player_list[index]['stats']['passing']['passTD']\n",
    "        stats_df.loc[index, 'passInt'] = player_list[index]['stats']['passing']['passInt']\n",
    "        stats_df.loc[index, 'qbRating'] = player_list[index]['stats']['passing']['qbRating']\n",
    "        stats_df.loc[index, 'rushAttempts'] = player_list[index]['stats']['rushing']['rushAttempts']\n",
    "        stats_df.loc[index, 'rushYards'] = player_list[index]['stats']['rushing']['rushYards']\n",
    "        stats_df.loc[index, 'rushAverage'] = player_list[index]['stats']['rushing']['rushAverage']\n",
    "        stats_df.loc[index, 'rushTD'] = player_list[index]['stats']['rushing']['rushTD']\n",
    "        stats_df.loc[index, 'Targets'] = player_list[index]['stats']['receiving']['targets']\n",
    "        stats_df.loc[index, 'Receptions'] = player_list[index]['stats']['receiving']['receptions']\n",
    "        stats_df.loc[index, 'recYards'] = player_list[index]['stats']['receiving']['recYards']\n",
    "        stats_df.loc[index, 'recAverage'] = player_list[index]['stats']['receiving']['recAverage']\n",
    "        stats_df.loc[index, 'recTD'] = player_list[index]['stats']['receiving']['recTD']\n",
    "        stats_df.loc[index, 'Tackles'] = player_list[index]['stats']['tackles']['tackleTotal']\n",
    "        stats_df.loc[index, 'Sacks'] = player_list[index]['stats']['tackles']['sacks']\n",
    "        stats_df.loc[index, 'TFL'] = player_list[index]['stats']['tackles']['tacklesForLoss']\n",
    "        stats_df.loc[index, 'Interceptions'] = player_list[index]['stats']['interceptions']['interceptions']\n",
    "        stats_df.loc[index, 'intTD'] = player_list[index]['stats']['interceptions']['intTD']\n",
    "        stats_df.loc[index, 'passesDefended'] = player_list[index]['stats']['interceptions']['passesDefended']\n",
    "        stats_df.loc[index, 'Safeties'] = player_list[index]['stats']['interceptions']['safeties']\n",
    "        stats_df.loc[index, 'fumblesForced'] = player_list[index]['stats']['fumbles']['fumForced']\n",
    "        stats_df.loc[index, 'fumbleTD'] = player_list[index]['stats']['fumbles']['fumTD']\n",
    "    \n",
    "    except:\n",
    "        pass\n",
    "        \n",
    "stats_df"
   ]
  },
  {
   "cell_type": "code",
   "execution_count": null,
   "metadata": {},
   "outputs": [],
   "source": []
  },
  {
   "cell_type": "code",
   "execution_count": null,
   "metadata": {},
   "outputs": [],
   "source": [
    "qb_df = stats_df[stats_df['Position'] == 'QB']\n",
    "qb_df = qb_df.sort_values(\"passYards\", ascending=False)\n",
    "qb_df"
   ]
  },
  {
   "cell_type": "code",
   "execution_count": null,
   "metadata": {},
   "outputs": [],
   "source": []
  },
  {
   "cell_type": "code",
   "execution_count": null,
   "metadata": {},
   "outputs": [],
   "source": []
  }
 ],
 "metadata": {
  "kernelspec": {
   "display_name": "Python 3",
   "language": "python",
   "name": "python3"
  },
  "language_info": {
   "codemirror_mode": {
    "name": "ipython",
    "version": 3
   },
   "file_extension": ".py",
   "mimetype": "text/x-python",
   "name": "python",
   "nbconvert_exporter": "python",
   "pygments_lexer": "ipython3",
   "version": "3.7.6"
  }
 },
 "nbformat": 4,
 "nbformat_minor": 4
}
